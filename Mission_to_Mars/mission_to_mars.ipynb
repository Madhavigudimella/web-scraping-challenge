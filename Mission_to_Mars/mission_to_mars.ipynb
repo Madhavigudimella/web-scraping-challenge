{
 "cells": [
  {
   "cell_type": "code",
   "execution_count": 1,
   "id": "e8713253",
   "metadata": {},
   "outputs": [],
   "source": [
    "from splinter import Browser\n",
    "from bs4 import BeautifulSoup\n",
    "from webdriver_manager.chrome import ChromeDriverManager\n",
    "import pandas as pd"
   ]
  },
  {
   "cell_type": "code",
   "execution_count": 2,
   "id": "72ff2c01",
   "metadata": {},
   "outputs": [
    {
     "name": "stderr",
     "output_type": "stream",
     "text": [
      "\n",
      "\n",
      "====== WebDriver manager ======\n",
      "Current google-chrome version is 100.0.4896\n",
      "Get LATEST chromedriver version for 100.0.4896 google-chrome\n",
      "Trying to download new driver from https://chromedriver.storage.googleapis.com/100.0.4896.60/chromedriver_mac64.zip\n",
      "Driver has been saved in cache [/Users/MadhuSlokaPj/.wdm/drivers/chromedriver/mac64/100.0.4896.60]\n"
     ]
    }
   ],
   "source": [
    "executable_path = {'executable_path': ChromeDriverManager().install()}\n",
    "browser = Browser('chrome', **executable_path, headless=False)"
   ]
  },
  {
   "cell_type": "markdown",
   "id": "cb628835",
   "metadata": {},
   "source": [
    "Code to scrape news related to Mars"
   ]
  },
  {
   "cell_type": "code",
   "execution_count": 3,
   "id": "498afb0a",
   "metadata": {},
   "outputs": [],
   "source": [
    "url = 'https://redplanetscience.com/'\n",
    "browser.visit(url)"
   ]
  },
  {
   "cell_type": "code",
   "execution_count": 4,
   "id": "48b85d09",
   "metadata": {},
   "outputs": [
    {
     "name": "stdout",
     "output_type": "stream",
     "text": [
      "<class 'bs4.element.ResultSet'>\n",
      "5 Hidden Gems Are Riding Aboard NASA's Perseverance Rover\n",
      "The symbols, mottos, and small objects added to the agency's newest Mars rover serve a variety of purposes, from functional to decorative.\n"
     ]
    }
   ],
   "source": [
    "for x in range(1):\n",
    "    \n",
    "    n_title = []\n",
    "    n_desc = []\n",
    "\n",
    "    html = browser.html\n",
    "    soup = BeautifulSoup(html, 'html.parser')\n",
    "\n",
    "    articles = soup.find_all(class_='list_text')\n",
    "    print(type(articles))\n",
    "\n",
    "    for article in articles:\n",
    "        news_title = article.find(class_='content_title').text\n",
    "        news_p = article.find(class_='article_teaser_body').text\n",
    "        n_title.append(news_title)\n",
    "        n_desc.append(news_p)\n",
    "    lat_title = n_title[0]\n",
    "    lat_art = n_desc[0]\n",
    "    \n",
    "#latest_news = pd.DataFrame({\"Title\": lat_title, \"Article\": lat_art})\n",
    "#latest_news\n",
    "\n",
    "print(lat_title)\n",
    "print(lat_art)\n",
    "\n",
    "        \n",
    "        \n",
    "# Click the 'Next' button on each page\n",
    " #    try:\n",
    "\n",
    "  #       browser.links.find_by_partial_text('MORE').click()\n",
    "  #   except:\n",
    "   #      print(\"Scraping Complete\")"
   ]
  },
  {
   "cell_type": "markdown",
   "id": "0fa51588",
   "metadata": {},
   "source": [
    "Code to scrape image in headline"
   ]
  },
  {
   "cell_type": "code",
   "execution_count": 5,
   "id": "60edefd6",
   "metadata": {},
   "outputs": [],
   "source": [
    "url2 = 'https://spaceimages-mars.com/'\n",
    "browser.visit(url2)"
   ]
  },
  {
   "cell_type": "code",
   "execution_count": 6,
   "id": "e513df37",
   "metadata": {},
   "outputs": [],
   "source": [
    "browser.links.find_by_partial_text('FULL IMAGE').click()"
   ]
  },
  {
   "cell_type": "code",
   "execution_count": 7,
   "id": "3973930a",
   "metadata": {},
   "outputs": [
    {
     "name": "stdout",
     "output_type": "stream",
     "text": [
      "https://spaceimages-mars.com/image/featured/mars1.jpg\n"
     ]
    }
   ],
   "source": [
    "\n",
    "\n",
    "html2 = browser.html\n",
    "soup2 = BeautifulSoup(html2, 'html.parser')\n",
    "images = soup2.find_all('div', class_='fancybox-outer')\n",
    "\n",
    "\n",
    "for image in images:\n",
    "    path = image.find('img', class_= 'fancybox-image')\n",
    "    relative_image_path = path['src']\n",
    "    mars_img = url2 + relative_image_path\n",
    "    print (mars_img)\n",
    "        "
   ]
  },
  {
   "cell_type": "markdown",
   "id": "3bf9884e",
   "metadata": {},
   "source": [
    "Code to scrape facts about Mars"
   ]
  },
  {
   "cell_type": "code",
   "execution_count": 8,
   "id": "6e328c3a",
   "metadata": {},
   "outputs": [],
   "source": [
    "url3 = 'https://galaxyfacts-mars.com/'\n",
    "browser.visit(url3)"
   ]
  },
  {
   "cell_type": "code",
   "execution_count": 9,
   "id": "3c8fbd30",
   "metadata": {},
   "outputs": [],
   "source": [
    "tables = pd.read_html(url3)"
   ]
  },
  {
   "cell_type": "code",
   "execution_count": 10,
   "id": "b1cbb873",
   "metadata": {},
   "outputs": [
    {
     "data": {
      "text/plain": [
       "[                         0                1                2\n",
       " 0  Mars - Earth Comparison             Mars            Earth\n",
       " 1                Diameter:         6,779 km        12,742 km\n",
       " 2                    Mass:  6.39 × 10^23 kg  5.97 × 10^24 kg\n",
       " 3                   Moons:                2                1\n",
       " 4       Distance from Sun:   227,943,824 km   149,598,262 km\n",
       " 5          Length of Year:   687 Earth days      365.24 days\n",
       " 6             Temperature:     -87 to -5 °C      -88 to 58°C,\n",
       "                       0                              1\n",
       " 0  Equatorial Diameter:                       6,792 km\n",
       " 1       Polar Diameter:                       6,752 km\n",
       " 2                 Mass:  6.39 × 10^23 kg (0.11 Earths)\n",
       " 3                Moons:          2 ( Phobos & Deimos )\n",
       " 4       Orbit Distance:       227,943,824 km (1.38 AU)\n",
       " 5         Orbit Period:           687 days (1.9 years)\n",
       " 6  Surface Temperature:                   -87 to -5 °C\n",
       " 7         First Record:              2nd millennium BC\n",
       " 8          Recorded By:           Egyptian astronomers]"
      ]
     },
     "execution_count": 10,
     "metadata": {},
     "output_type": "execute_result"
    }
   ],
   "source": [
    "tables"
   ]
  },
  {
   "cell_type": "code",
   "execution_count": 11,
   "id": "2ef87174",
   "metadata": {},
   "outputs": [
    {
     "data": {
      "text/plain": [
       "list"
      ]
     },
     "execution_count": 11,
     "metadata": {},
     "output_type": "execute_result"
    }
   ],
   "source": [
    "type(tables)"
   ]
  },
  {
   "cell_type": "code",
   "execution_count": 12,
   "id": "acb2734f",
   "metadata": {},
   "outputs": [
    {
     "data": {
      "text/html": [
       "<div>\n",
       "<style scoped>\n",
       "    .dataframe tbody tr th:only-of-type {\n",
       "        vertical-align: middle;\n",
       "    }\n",
       "\n",
       "    .dataframe tbody tr th {\n",
       "        vertical-align: top;\n",
       "    }\n",
       "\n",
       "    .dataframe thead th {\n",
       "        text-align: right;\n",
       "    }\n",
       "</style>\n",
       "<table border=\"1\" class=\"dataframe\">\n",
       "  <thead>\n",
       "    <tr style=\"text-align: right;\">\n",
       "      <th></th>\n",
       "      <th>0</th>\n",
       "      <th>1</th>\n",
       "      <th>2</th>\n",
       "    </tr>\n",
       "  </thead>\n",
       "  <tbody>\n",
       "    <tr>\n",
       "      <th>0</th>\n",
       "      <td>Mars - Earth Comparison</td>\n",
       "      <td>Mars</td>\n",
       "      <td>Earth</td>\n",
       "    </tr>\n",
       "    <tr>\n",
       "      <th>1</th>\n",
       "      <td>Diameter:</td>\n",
       "      <td>6,779 km</td>\n",
       "      <td>12,742 km</td>\n",
       "    </tr>\n",
       "    <tr>\n",
       "      <th>2</th>\n",
       "      <td>Mass:</td>\n",
       "      <td>6.39 × 10^23 kg</td>\n",
       "      <td>5.97 × 10^24 kg</td>\n",
       "    </tr>\n",
       "    <tr>\n",
       "      <th>3</th>\n",
       "      <td>Moons:</td>\n",
       "      <td>2</td>\n",
       "      <td>1</td>\n",
       "    </tr>\n",
       "    <tr>\n",
       "      <th>4</th>\n",
       "      <td>Distance from Sun:</td>\n",
       "      <td>227,943,824 km</td>\n",
       "      <td>149,598,262 km</td>\n",
       "    </tr>\n",
       "  </tbody>\n",
       "</table>\n",
       "</div>"
      ],
      "text/plain": [
       "                         0                1                2\n",
       "0  Mars - Earth Comparison             Mars            Earth\n",
       "1                Diameter:         6,779 km        12,742 km\n",
       "2                    Mass:  6.39 × 10^23 kg  5.97 × 10^24 kg\n",
       "3                   Moons:                2                1\n",
       "4       Distance from Sun:   227,943,824 km   149,598,262 km"
      ]
     },
     "execution_count": 12,
     "metadata": {},
     "output_type": "execute_result"
    }
   ],
   "source": [
    "#keep first object in the list and drop the rest\n",
    "df = tables[0]\n",
    "df.columns = df.columns.get_level_values(0)\n",
    "df.head()"
   ]
  },
  {
   "cell_type": "code",
   "execution_count": 13,
   "id": "349c2881",
   "metadata": {},
   "outputs": [
    {
     "data": {
      "text/html": [
       "<div>\n",
       "<style scoped>\n",
       "    .dataframe tbody tr th:only-of-type {\n",
       "        vertical-align: middle;\n",
       "    }\n",
       "\n",
       "    .dataframe tbody tr th {\n",
       "        vertical-align: top;\n",
       "    }\n",
       "\n",
       "    .dataframe thead th {\n",
       "        text-align: right;\n",
       "    }\n",
       "</style>\n",
       "<table border=\"1\" class=\"dataframe\">\n",
       "  <thead>\n",
       "    <tr style=\"text-align: right;\">\n",
       "      <th></th>\n",
       "      <th>Description</th>\n",
       "      <th>Facts</th>\n",
       "    </tr>\n",
       "  </thead>\n",
       "  <tbody>\n",
       "    <tr>\n",
       "      <th>1</th>\n",
       "      <td>Diameter:</td>\n",
       "      <td>6,779 km</td>\n",
       "    </tr>\n",
       "    <tr>\n",
       "      <th>2</th>\n",
       "      <td>Mass:</td>\n",
       "      <td>6.39 × 10^23 kg</td>\n",
       "    </tr>\n",
       "    <tr>\n",
       "      <th>3</th>\n",
       "      <td>Moons:</td>\n",
       "      <td>2</td>\n",
       "    </tr>\n",
       "    <tr>\n",
       "      <th>4</th>\n",
       "      <td>Distance from Sun:</td>\n",
       "      <td>227,943,824 km</td>\n",
       "    </tr>\n",
       "    <tr>\n",
       "      <th>5</th>\n",
       "      <td>Length of Year:</td>\n",
       "      <td>687 Earth days</td>\n",
       "    </tr>\n",
       "  </tbody>\n",
       "</table>\n",
       "</div>"
      ],
      "text/plain": [
       "0         Description            Facts\n",
       "1           Diameter:         6,779 km\n",
       "2               Mass:  6.39 × 10^23 kg\n",
       "3              Moons:                2\n",
       "4  Distance from Sun:   227,943,824 km\n",
       "5     Length of Year:   687 Earth days"
      ]
     },
     "execution_count": 13,
     "metadata": {},
     "output_type": "execute_result"
    }
   ],
   "source": [
    "#Replace column header with first row\n",
    "df.columns = df.iloc[0]\n",
    "df = df[1:]\n",
    "#Delete Earth column and replace column headers\n",
    "df = df.drop(['Earth'], axis=1)\n",
    "df.rename(columns={'Mars - Earth Comparison': 'Description', 'Mars': 'Facts'}, inplace=True)\n",
    "df.head()"
   ]
  },
  {
   "cell_type": "code",
   "execution_count": 14,
   "id": "60a985bc",
   "metadata": {},
   "outputs": [],
   "source": [
    "#convert to html and save the html file\n",
    "html_table = df.to_html()\n",
    "html_table.replace('\\n', '')\n",
    "df.to_html('mars_facts.html')"
   ]
  },
  {
   "cell_type": "markdown",
   "id": "721ecb37",
   "metadata": {},
   "source": [
    "More pictures from different hemispheres"
   ]
  },
  {
   "cell_type": "code",
   "execution_count": 17,
   "id": "18bcbe6f",
   "metadata": {},
   "outputs": [
    {
     "name": "stdout",
     "output_type": "stream",
     "text": [
      "{'Cerberus Hemisphere': 'https://marshemispheres.com/images/f5e372a36edfa389625da6d0cc25d905_cerberus_enhanced.tif_full.jpg', 'Schiaparelli Hemisphere': 'https://marshemispheres.com/images/3778f7b43bbbc89d6e3cfabb3613ba93_schiaparelli_enhanced.tif_full.jpg', 'Syrtis Major Hemisphere': 'https://marshemispheres.com/images/555e6403a6ddd7ba16ddb0e471cadcf7_syrtis_major_enhanced.tif_full.jpg', 'Valles Marineris Hemisphere': 'https://marshemispheres.com/images/b3c7c6c9138f57b4756be9b9c43e3a48_valles_marineris_enhanced.tif_full.jpg'}\n"
     ]
    }
   ],
   "source": [
    "url4 = 'https://marshemispheres.com/'\n",
    "browser.visit(url4)\n",
    "hemispheres = [\"Cerberus Hemisphere\", \"Schiaparelli Hemisphere\", \"Syrtis Major Hemisphere\", \n",
    "               \"Valles Marineris Hemisphere\"]\n",
    "img_url = []\n",
    "\n",
    "dict_list = []\n",
    "dict = {}\n",
    "\n",
    "\n",
    "for i in range(len(hemispheres)):\n",
    "    \n",
    "    browser.links.find_by_partial_text(hemispheres[i]).click()\n",
    "    \n",
    "    html3 = browser.html\n",
    "    soup3 = BeautifulSoup(html3, 'html.parser')\n",
    "    images = soup3.find_all('div', class_='wide-image-wrapper')\n",
    "\n",
    "\n",
    "    for image in images:\n",
    "        path2 = image.find('img', class_= 'wide-image')\n",
    "        relative_image_path2 = path2['src']\n",
    "        img2 = url4 + relative_image_path2\n",
    "        img_url.append(img2)\n",
    "    \n",
    "    \n",
    "    \n",
    "    browser.links.find_by_partial_text('Back').click()\n",
    "    \n",
    "for j in range(len(hemispheres)):\n",
    "    dict[hemispheres[j]] = img_url[j]\n",
    "                \n",
    "print(dict)\n",
    "\n",
    "    "
   ]
  },
  {
   "cell_type": "code",
   "execution_count": 18,
   "id": "f073a14d",
   "metadata": {},
   "outputs": [
    {
     "name": "stdout",
     "output_type": "stream",
     "text": [
      "[{'Title': ['Cerberus Hemisphere'], 'img_url': ['https://marshemispheres.com/images/f5e372a36edfa389625da6d0cc25d905_cerberus_enhanced.tif_full.jpg']}, {'Title': ['Schiaparelli Hemisphere'], 'img_url': ['https://marshemispheres.com/images/3778f7b43bbbc89d6e3cfabb3613ba93_schiaparelli_enhanced.tif_full.jpg']}, {'Title': ['Syrtis Major Hemisphere'], 'img_url': ['https://marshemispheres.com/images/555e6403a6ddd7ba16ddb0e471cadcf7_syrtis_major_enhanced.tif_full.jpg']}, {'Title': ['Valles Marineris Hemisphere'], 'img_url': ['https://marshemispheres.com/images/b3c7c6c9138f57b4756be9b9c43e3a48_valles_marineris_enhanced.tif_full.jpg']}]\n"
     ]
    }
   ],
   "source": [
    "url4 = 'https://marshemispheres.com/'\n",
    "browser.visit(url4)\n",
    "hemispheres = [\"Cerberus Hemisphere\", \"Schiaparelli Hemisphere\", \"Syrtis Major Hemisphere\", \n",
    "               \"Valles Marineris Hemisphere\"]\n",
    "img_url = []\n",
    "\n",
    "dict_list = []\n",
    "\n",
    "\n",
    "for hemisphere in hemispheres:\n",
    "    \n",
    "    browser.links.find_by_partial_text(hemisphere).click()\n",
    "    dict = {\"Title\":[], \"img_url\":[]}\n",
    "    html3 = browser.html\n",
    "    soup3 = BeautifulSoup(html3, 'html.parser')\n",
    "    images = soup3.find_all('div', class_='wide-image-wrapper')\n",
    "\n",
    "\n",
    "    for image in images:\n",
    "        path2 = image.find('img', class_= 'wide-image')\n",
    "        relative_image_path2 = path2['src']\n",
    "        img2 = url4 + relative_image_path2\n",
    "        #img_url.append(img2)\n",
    "    dict[\"img_url\"].append(img2)\n",
    "    dict[\"Title\"].append(hemisphere)\n",
    "    \n",
    "    \n",
    "\n",
    "    dict_list.append(dict.copy())\n",
    "    \n",
    "    browser.links.find_by_partial_text('Back').click()\n",
    "                \n",
    "print(dict_list)\n",
    "\n",
    "    "
   ]
  },
  {
   "cell_type": "code",
   "execution_count": null,
   "id": "91b4d049",
   "metadata": {},
   "outputs": [],
   "source": []
  }
 ],
 "metadata": {
  "kernelspec": {
   "display_name": "Python 3 (ipykernel)",
   "language": "python",
   "name": "python3"
  },
  "language_info": {
   "codemirror_mode": {
    "name": "ipython",
    "version": 3
   },
   "file_extension": ".py",
   "mimetype": "text/x-python",
   "name": "python",
   "nbconvert_exporter": "python",
   "pygments_lexer": "ipython3",
   "version": "3.9.7"
  }
 },
 "nbformat": 4,
 "nbformat_minor": 5
}
